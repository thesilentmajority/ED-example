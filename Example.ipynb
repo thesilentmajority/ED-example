{
 "cells": [
  {
   "cell_type": "markdown",
   "metadata": {},
   "source": [
    "### Example of ED ——  Transverse-field Ising model on a N-site ring\n",
    "\n",
    "$$\n",
    "\\begin{gathered}\n",
    "H=-J \\sum_{i=1}^N\\left(g \\sigma_i^x+\\sigma_i^z \\sigma_{i+1}^z\\right) \\quad J, g \\geq 0 \\\\\n",
    "\\sigma^x=\\left(\\begin{array}{ll}\n",
    "0 & 1 \\\\\n",
    "1 & 0\n",
    "\\end{array}\\right), \\sigma^z=\\left(\\begin{array}{cc}\n",
    "1 & 0 \\\\\n",
    "0 & -1\n",
    "\\end{array}\\right)\n",
    "\\end{gathered}\n",
    "$$"
   ]
  },
  {
   "cell_type": "code",
   "execution_count": null,
   "metadata": {},
   "outputs": [],
   "source": [
    "import numpy as np\n",
    "import scipy.linalg as LA\n",
    "from scipy.sparse import coo_matrix\n",
    "import pandas as pd\n",
    "import math\n",
    "import matplotlib.pyplot as plt\n",
    "from itertools import combinations"
   ]
  },
  {
   "cell_type": "markdown",
   "metadata": {},
   "source": [
    "The translational operator $T$ is performed using RotLBit(i, L, n)."
   ]
  },
  {
   "cell_type": "code",
   "execution_count": null,
   "metadata": {},
   "outputs": [],
   "source": [
    "# Binary Encoding for the Base Set\n",
    "\n",
    "# Calculate the number of '1' in the base set\n",
    "def CountBit(i):\n",
    "    return np.binary_repr(i).count('1')\n",
    "\n",
    "# Flip the nth bit of a binary number\n",
    "def FilpBit(i, n):\n",
    "    return i ^ (1 << n)\n",
    "\n",
    "# Read the nth bit of a binary number\n",
    "def ReadBit(i, n)->int:\n",
    "    return (i & (1 << n)) >> n\n",
    "\n",
    "# Read the value of an n-bit binary number starting from the kth bit\n",
    "def PickBit(i, k, n):\n",
    "    return (i & ((2 ** n -1) << k)) >> k\n",
    "\n",
    "# Left shift by n bits\n",
    "def RotLBit(i, L, n):\n",
    "    return (PickBit(i, 0, L - n) << n) + (i >> (L - n))\n",
    "\n",
    "# Right shift by n bits\n",
    "def RotRBit(i, L, n):\n",
    "    return (PickBit(i, 0, n) << (L - n)) + (i >> n)\n"
   ]
  },
  {
   "cell_type": "markdown",
   "metadata": {},
   "source": [
    "ActingH(n) calculates the result of Hamiltonian acting on a state $|r\\rangle$ in transverse-field Ising model."
   ]
  },
  {
   "cell_type": "code",
   "execution_count": null,
   "metadata": {},
   "outputs": [],
   "source": [
    "def ActingH(n, L, J, g):\n",
    "    ising = [((i), (i + 1) % L) for i in range(0, L)]\n",
    "    output = []\n",
    "    \n",
    "    #Ising Bond\n",
    "    for i in range(0, L):\n",
    "        m = n ^ (1 << i)\n",
    "        output.append((m, - J * g))\n",
    "    \n",
    "    diag = 0\n",
    "\n",
    "    #Transverse Field\n",
    "    for j in ising:\n",
    "        if(ReadBit(n, j[0]) == ReadBit(n, j[1])):\n",
    "            diag = diag - J\n",
    "        else:\n",
    "            diag = diag + J\n",
    "    \n",
    "    output.append((n, diag))\n",
    "    \n",
    "    return output"
   ]
  },
  {
   "cell_type": "markdown",
   "metadata": {},
   "source": [
    "Translational symmetry should be taken into consideration when constructing the Hamiltonian matirx. For a given N-site model, we only need to calculate the Hamiltonian matirx $H_k$ for each k sector with k ranging from $0$ to $N-1$.\n",
    "$$H = H_{0} \\oplus H_{2} \\oplus H_{k} \\oplus \\cdots \\oplus H_{N - 1}$$\n",
    "\n",
    "When constructing the basis, we need to find the representative state(RS) and determine wheter it belong to a specific $k$ sector using the rule\n",
    "\n",
    "$$kR = \\text{integer} \\cdot N$$\n",
    "\n",
    "where $R$ means aftering translating $R$ steps, the orginal state is obtained $T^R|r_k\\rangle = |r_k\\rangle$.\n",
    "\n",
    "The matrix element between two state $|r_k\\rangle$ and $|r_k^\\prime\\rangle$ is given by\n",
    "$$\n",
    "\\left\\langle r_k^{\\prime}|H| r_k\\right\\rangle=\\frac{\\left\\langle r^{\\prime}\\left|P_k^{\\dagger} H P_k\\right| r\\right\\rangle}{\\sqrt{\\left\\langle r^{\\prime}\\left|P_k\\right| r^{\\prime}\\right\\rangle\\left\\langle r\\left|P_k\\right| r\\right\\rangle}}=\\frac{\\left\\langle r^{\\prime}|P_k H |r\\right\\rangle}{\\sqrt{\\left\\langle r^{\\prime}\\left|P_k\\right| r^{\\prime}\\right\\rangle\\left\\langle r\\left|P_k\\right| r\\right\\rangle}}\n",
    "$$\n",
    "\n",
    "\n"
   ]
  },
  {
   "cell_type": "code",
   "execution_count": null,
   "metadata": {},
   "outputs": [],
   "source": [
    "# Building of all N-site basis\n",
    "def BuildBasisN(L):\n",
    "    basisN = []\n",
    "\n",
    "    for i in range(0, 2 ** L):\n",
    "            basisN.append(i)\n",
    "\n",
    "    return basisN\n",
    "\n",
    "# Building of basis for each fixed-momentum Hilbert space, only RS is necessary to be stored\n",
    "def BuildBasisNk(L, k):\n",
    "    basisNk = []\n",
    "    basisN = BuildBasisN(L)\n",
    "\n",
    "    for n in basisN:\n",
    "        #find the RS\n",
    "        Tlist = [RotLBit(n, L, i) for i in range(0, L + 1)]\n",
    "        m = min(Tlist)\n",
    "        R = Tlist[1:].index(n) + 1\n",
    "        #kR = integer * N for spin systems\n",
    "        if(m == n and (k * R) % L == 0):\n",
    "            basisNk.append(n)\n",
    "    \n",
    "    return basisNk\n",
    "\n",
    "# Building of Hamiltonian matrix in the form of sparse matrix\n",
    "def BuildHNk(L, k, J, g):\n",
    "    HNk_col = []\n",
    "    HNk_row = []\n",
    "    HNk_val = []\n",
    "    pos = {}\n",
    "    basisNk = BuildBasisNk(L, k)\n",
    "    for n in basisNk:\n",
    "        b = basisNk.index(n)\n",
    "        output = ActingH(n, L, J, g)\n",
    "        for (m, h) in output:\n",
    "            Tlist = [RotLBit(m, L, i) for i in range(0, L + 1)]\n",
    "            #Find the RS of m and calculate the distance beteen them\n",
    "            m_rs = min(Tlist)\n",
    "            Rm = Tlist[1:].index(m) + 1\n",
    "            d = Tlist.index(m_rs)\n",
    "\n",
    "            Tlist = [RotLBit(n, L, i) for i in range(0, L + 1)]\n",
    "            Rn = Tlist[1:].index(n) + 1\n",
    "            # After acting the Hamiltonian, the result may contain non-representative state, \n",
    "            # so the matrix elements is a sum of all states belonging to the same RS\n",
    "            if(m_rs in basisNk):\n",
    "                a = basisNk.index(m_rs)\n",
    "                if(not (a, b) in pos):\n",
    "                    HNk_col.append(a)\n",
    "                    HNk_row.append(b)\n",
    "                    # Normalization coefficient is considered\n",
    "                    HNk_val.append(h * np.exp(1j * k * d * 2 * math.pi / L) * np.sqrt(Rn) / np.sqrt(Rm))\n",
    "                    pos[(a, b)] = len(HNk_col) - 1\n",
    "                else:\n",
    "                    HNk_val[pos[(a, b)]] = HNk_val[pos[(a, b)]] + h * np.exp(1j * k * d * 2 * math.pi / L) * np.sqrt(Rn) / np.sqrt(Rm)\n",
    "    \n",
    "    return HNk_col, HNk_row, HNk_val, len(basisNk), basisNk\n",
    "    "
   ]
  },
  {
   "cell_type": "code",
   "execution_count": null,
   "metadata": {},
   "outputs": [],
   "source": [
    "#Display the result\n",
    "def Task(L):\n",
    "    J_list = [1]\n",
    "    g_list = [1]\n",
    "\n",
    "    E, V = [], []\n",
    "\n",
    "    for J, g in zip(J_list, g_list):\n",
    "        count = 0\n",
    "        Hx = []\n",
    "        Hy = []\n",
    "        Hn = []\n",
    "\n",
    "        for k in range(0, L):\n",
    "            X, Y, N, C, basis= BuildHNk(L, k, J, g)\n",
    "            Hx = Hx + [p + count for p in X]\n",
    "            Hy = Hy + [p + count for p in Y]\n",
    "            Hn = Hn + [p for p in N]\n",
    "            count = count + C\n",
    "\n",
    "        Ham = (coo_matrix((Hn, (Hx, Hy)),shape=(count, count)).tocsc())\n",
    "        E, V = LA.eig(Ham.toarray()) \n",
    "        \n",
    "    return E, V\n",
    "\n",
    "Task(4)"
   ]
  },
  {
   "cell_type": "markdown",
   "metadata": {},
   "source": [
    "\n",
    "\n",
    "### Reference\n",
    "1. Jung, J. H., & Noh, J. D. (2020). Guide to Exact Diagonalization Study of Quantum Thermalization. Journal of the Korean Physical Society, 76(8), 670-683.\n",
    "\n"
   ]
  }
 ],
 "metadata": {
  "kernelspec": {
   "display_name": "Python 3.9.12 ('base')",
   "language": "python",
   "name": "python3"
  },
  "language_info": {
   "codemirror_mode": {
    "name": "ipython",
    "version": 3
   },
   "file_extension": ".py",
   "mimetype": "text/x-python",
   "name": "python",
   "nbconvert_exporter": "python",
   "pygments_lexer": "ipython3",
   "version": "3.9.16"
  },
  "orig_nbformat": 4,
  "vscode": {
   "interpreter": {
    "hash": "480f8cf9066ff0e8deffdd1f855027c797b29d31a73bd6826cc1ca9269d7b2ef"
   }
  }
 },
 "nbformat": 4,
 "nbformat_minor": 2
}
